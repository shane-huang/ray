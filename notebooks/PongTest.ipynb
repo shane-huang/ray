{
 "cells": [
  {
   "cell_type": "code",
   "execution_count": 21,
   "metadata": {
    "collapsed": true
   },
   "outputs": [],
   "source": [
    "import matplotlib.pyplot as plt\n",
    "%matplotlib inline\n",
    "from IPython import display\n",
    "import numpy as np"
   ]
  },
  {
   "cell_type": "code",
   "execution_count": 22,
   "metadata": {},
   "outputs": [
    {
     "data": {
      "text/plain": [
       "<matplotlib.figure.Figure at 0x7f8cdced71d0>"
      ]
     },
     "metadata": {},
     "output_type": "display_data"
    }
   ],
   "source": [
    "plt.figure(3)\n",
    "def show_state(env, step=0, info=\"\"):\n",
    "    plt.clf()\n",
    "    plt.imshow(env.render(mode='rgb_array'))\n",
    "    plt.title(\"%s | Step: %d %s\" % (env._spec.id,step, info))\n",
    "    plt.axis('off')\n",
    "    display.clear_output(wait=True)\n",
    "    display.display(plt.gcf())"
   ]
  },
  {
   "cell_type": "code",
   "execution_count": 1,
   "metadata": {
    "collapsed": true
   },
   "outputs": [],
   "source": [
    "from __future__ import absolute_import\n",
    "from __future__ import division\n",
    "from __future__ import print_function\n",
    "\n",
    "import argparse\n",
    "import numpy as np\n",
    "import os\n",
    "import ray\n",
    "import time\n",
    "\n",
    "import gym\n",
    "\n",
    "# Define some hyperparameters.\n",
    "\n",
    "# The number of hidden layer neurons.\n",
    "H = 200\n",
    "learning_rate = 1e-4\n",
    "# Discount factor for reward.\n",
    "gamma = 0.99\n",
    "# The decay factor for RMSProp leaky sum of grad^2.\n",
    "decay_rate = 0.99\n",
    "\n",
    "# The input dimensionality: 80x80 grid.\n",
    "D = 80 * 80"
   ]
  },
  {
   "cell_type": "code",
   "execution_count": 2,
   "metadata": {},
   "outputs": [
    {
     "data": {
      "text/plain": [
       "{'local_scheduler_socket_names': [u'/tmp/scheduler40728902'],\n",
       " 'node_ip_address': '192.168.2.16',\n",
       " 'object_store_addresses': [ObjectStoreAddress(name=u'/tmp/plasma_store94765772', manager_name=u'/tmp/plasma_manager22479115', manager_port=56935)],\n",
       " 'redis_address': '192.168.2.16:6379'}"
      ]
     },
     "execution_count": 2,
     "metadata": {},
     "output_type": "execute_result"
    }
   ],
   "source": [
    "ray.init(redis_address=\"192.168.2.16:6379\")"
   ]
  },
  {
   "cell_type": "code",
   "execution_count": 3,
   "metadata": {
    "collapsed": true
   },
   "outputs": [],
   "source": [
    "def sigmoid(x):\n",
    "    # Sigmoid \"squashing\" function to interval [0, 1].\n",
    "    return 1.0 / (1.0 + np.exp(-x))\n",
    "\n",
    "\n",
    "def preprocess(I):\n",
    "    \"\"\"Preprocess 210x160x3 uint8 frame into 6400 (80x80) 1D float vector.\"\"\"\n",
    "    # Crop the image.\n",
    "    I = I[35:195]\n",
    "    # Downsample by factor of 2.\n",
    "    I = I[::2, ::2, 0]\n",
    "    # Erase background (background type 1).\n",
    "    I[I == 144] = 0\n",
    "    # Erase background (background type 2).\n",
    "    I[I == 109] = 0\n",
    "    # Set everything else (paddles, ball) to 1.\n",
    "    I[I != 0] = 1\n",
    "    return I.astype(np.float).ravel()\n",
    "\n",
    "\n",
    "def discount_rewards(r):\n",
    "    \"\"\"take 1D float array of rewards and compute discounted reward\"\"\"\n",
    "    discounted_r = np.zeros_like(r)\n",
    "    running_add = 0\n",
    "    for t in reversed(range(0, r.size)):\n",
    "        # Reset the sum, since this was a game boundary (pong specific!).\n",
    "        if r[t] != 0:\n",
    "            running_add = 0\n",
    "        running_add = running_add * gamma + r[t]\n",
    "        discounted_r[t] = running_add\n",
    "    return discounted_r\n",
    "\n",
    "\n",
    "def policy_forward(x, model):\n",
    "    h = np.dot(model[\"W1\"], x)\n",
    "    h[h < 0] = 0  # ReLU nonlinearity.\n",
    "    logp = np.dot(model[\"W2\"], h)\n",
    "    p = sigmoid(logp)\n",
    "    # Return probability of taking action 2, and hidden state.\n",
    "    return p, h\n",
    "\n",
    "\n",
    "def policy_backward(eph, epx, epdlogp, model):\n",
    "    \"\"\"backward pass. (eph is array of intermediate hidden states)\"\"\"\n",
    "    dW2 = np.dot(eph.T, epdlogp).ravel()\n",
    "    dh = np.outer(epdlogp, model[\"W2\"])\n",
    "    # Backprop relu.\n",
    "    dh[eph <= 0] = 0\n",
    "    dW1 = np.dot(dh.T, epx)\n",
    "    return {\"W1\": dW1, \"W2\": dW2}\n",
    "\n",
    "\n",
    "@ray.remote\n",
    "class PongEnv(object):\n",
    "    def __init__(self):\n",
    "        # Tell numpy to only use one core. If we don't do this, each actor may\n",
    "        # try to use all of the cores and the resulting contention may result\n",
    "        # in no speedup over the serial version. Note that if numpy is using\n",
    "        # OpenBLAS, then you need to set OPENBLAS_NUM_THREADS=1, and you\n",
    "        # probably need to do it from the command line (so it happens before\n",
    "        # numpy is imported).\n",
    "        os.environ[\"MKL_NUM_THREADS\"] = \"1\"\n",
    "        self.env = gym.make(\"Pong-v0\")\n",
    "        #self.step = 0\n",
    "\n",
    "    def compute_gradient(self, model):\n",
    "        # Reset the game.\n",
    "        observation = self.env.reset()\n",
    "        # Note that prev_x is used in computing the difference frame.\n",
    "        prev_x = None\n",
    "        xs, hs, dlogps, drs = [], [], [], []\n",
    "        reward_sum = 0\n",
    "        done = False\n",
    "        while not done:\n",
    "            cur_x = preprocess(observation)\n",
    "            x = cur_x - prev_x if prev_x is not None else np.zeros(D)\n",
    "            prev_x = cur_x\n",
    "\n",
    "            aprob, h = policy_forward(x, model)\n",
    "            # Sample an action.\n",
    "            action = 2 if np.random.uniform() < aprob else 3\n",
    "\n",
    "            # The observation.\n",
    "            xs.append(x)\n",
    "            # The hidden state.\n",
    "            hs.append(h)\n",
    "            y = 1 if action == 2 else 0  # A \"fake label\".\n",
    "            # The gradient that encourages the action that was taken to be\n",
    "            # taken (see http://cs231n.github.io/neural-networks-2/#losses if\n",
    "            # confused).\n",
    "            dlogps.append(y - aprob)\n",
    "\n",
    "            observation, reward, done, info = self.env.step(action)\n",
    "            #show_state(self.env.env,self.step)\n",
    "            #self.step += 1\n",
    "            reward_sum += reward\n",
    "\n",
    "            # Record reward (has to be done after we call step() to get reward\n",
    "            # for previous action).\n",
    "            drs.append(reward)\n",
    "\n",
    "        epx = np.vstack(xs)\n",
    "        eph = np.vstack(hs)\n",
    "        epdlogp = np.vstack(dlogps)\n",
    "        epr = np.vstack(drs)\n",
    "        # Reset the array memory.\n",
    "        xs, hs, dlogps, drs = [], [], [], []\n",
    "\n",
    "        # Compute the discounted reward backward through time.\n",
    "        discounted_epr = discount_rewards(epr)\n",
    "        # Standardize the rewards to be unit normal (helps control the gradient\n",
    "        # estimator variance).\n",
    "        discounted_epr -= np.mean(discounted_epr)\n",
    "        discounted_epr /= np.std(discounted_epr)\n",
    "        # Modulate the gradient with advantage (the policy gradient magic\n",
    "        # happens right here).\n",
    "        epdlogp *= discounted_epr\n",
    "        return policy_backward(eph, epx, epdlogp, model), reward_sum"
   ]
  },
  {
   "cell_type": "code",
   "execution_count": 15,
   "metadata": {},
   "outputs": [],
   "source": [
    "def build_model():\n",
    "    model = {}\n",
    "    # \"Xavier\" initialization.\n",
    "    model[\"W1\"] = np.random.randn(H, D) / np.sqrt(D)\n",
    "    model[\"W2\"] = np.random.randn(H) / np.sqrt(H)\n",
    "    return model"
   ]
  },
  {
   "cell_type": "code",
   "execution_count": 16,
   "metadata": {},
   "outputs": [],
   "source": [
    "def train(model,iterations,batch_size):\n",
    "    batch_num = 1\n",
    "    running_reward = None\n",
    "    # Update buffers that add up gradients over a batch.\n",
    "    grad_buffer = {k: np.zeros_like(v) for k, v in model.items()}\n",
    "    # Update the rmsprop memory.\n",
    "    rmsprop_cache = {k: np.zeros_like(v) for k, v in model.items()}\n",
    "    \n",
    "    iteration = 0\n",
    "    while iteration != iterations:\n",
    "        iteration += 1\n",
    "        model_id = ray.put(model)\n",
    "        actions = []\n",
    "        # Launch tasks to compute gradients from multiple rollouts in parallel.\n",
    "        start_time = time.time()\n",
    "        for i in range(batch_size):\n",
    "            action_id = actors[i].compute_gradient.remote(model_id)\n",
    "            actions.append(action_id)\n",
    "        for i in range(batch_size):\n",
    "            action_id, actions = ray.wait(actions)\n",
    "            grad, reward_sum = ray.get(action_id[0])\n",
    "            # Accumulate the gradient over batch.\n",
    "            for k in model:\n",
    "                grad_buffer[k] += grad[k]\n",
    "            running_reward = (reward_sum if running_reward is None\n",
    "                          else running_reward * 0.99 + reward_sum * 0.01)\n",
    "        end_time = time.time()\n",
    "        print(\"Batch {} computed {} rollouts in {} seconds, \"\n",
    "              \"running mean is {}\".format(batch_num, batch_size,\n",
    "                                      end_time - start_time,\n",
    "                                      running_reward))\n",
    "        #update the weights in model\n",
    "        for k, v in model.items():\n",
    "            g = grad_buffer[k]\n",
    "            rmsprop_cache[k] = (decay_rate * rmsprop_cache[k] +\n",
    "                            (1 - decay_rate) * g ** 2)\n",
    "            model[k] += learning_rate * g / (np.sqrt(rmsprop_cache[k]) + 1e-5)\n",
    "            # Reset the batch gradient buffer.\n",
    "            grad_buffer[k] = np.zeros_like(v)\n",
    "        batch_num += 1\n",
    "    return model"
   ]
  },
  {
   "cell_type": "code",
   "execution_count": 17,
   "metadata": {
    "collapsed": true
   },
   "outputs": [],
   "source": [
    "actors = [PongEnv.remote() for _ in range(batch_size)]"
   ]
  },
  {
   "cell_type": "code",
   "execution_count": 30,
   "metadata": {},
   "outputs": [
    {
     "name": "stdout",
     "output_type": "stream",
     "text": [
      "Batch 1 computed 10 rollouts in 26.6310689449 seconds, running mean is -20.9034201591\n",
      "Batch 2 computed 10 rollouts in 25.2465641499 seconds, running mean is -20.845293824\n",
      "Batch 3 computed 10 rollouts in 24.103525877 seconds, running mean is -20.801558894\n",
      "Batch 4 computed 10 rollouts in 24.1876318455 seconds, running mean is -20.7422912882\n",
      "Batch 5 computed 10 rollouts in 26.1251189709 seconds, running mean is -20.6595855133\n",
      "Batch 6 computed 10 rollouts in 25.3931407928 seconds, running mean is -20.6450314882\n",
      "Batch 7 computed 10 rollouts in 27.2821509838 seconds, running mean is -20.6503336782\n",
      "Batch 8 computed 10 rollouts in 23.8418519497 seconds, running mean is -20.5598049225\n",
      "Batch 9 computed 10 rollouts in 30.248401165 seconds, running mean is -20.4105473266\n",
      "Batch 10 computed 10 rollouts in 27.3127698898 seconds, running mean is -20.3991738569\n"
     ]
    }
   ],
   "source": [
    "trained_model = train(model,iterations=10,batch_size=10)"
   ]
  },
  {
   "cell_type": "code",
   "execution_count": 31,
   "metadata": {
    "collapsed": true
   },
   "outputs": [],
   "source": [
    "def play(frames=100):\n",
    "    os.environ[\"MKL_NUM_THREADS\"] = \"1\"\n",
    "    env = gym.make(\"Pong-v0\")\n",
    "\n",
    "    # Run a demo of the environment\n",
    "    observation = env.reset()\n",
    "    \n",
    "    prev_x = None\n",
    "    done = False\n",
    "    for t in range(frames):\n",
    "        cur_x = preprocess(observation)\n",
    "        x = cur_x - prev_x if prev_x is not None else np.zeros(D)\n",
    "        prev_x = cur_x\n",
    "        aprob, h = policy_forward(x, model)\n",
    "        action = 2 if np.random.uniform() < aprob else 3\n",
    "        #action = env.action_space.sample()\n",
    "        observation, reward, done, info = env.step(action)\n",
    "        show_state(env.env,t)\n",
    "        if done:\n",
    "            break\n",
    "    env.render(close=True)"
   ]
  },
  {
   "cell_type": "code",
   "execution_count": 32,
   "metadata": {},
   "outputs": [
    {
     "data": {
      "image/png": "[encoded data removed]",
      "text/plain": [
       "<matplotlib.figure.Figure at 0x7f8cc80cf3d0>"
      ]
     },
     "metadata": {},
     "output_type": "display_data"
    },
    {
     "data": {
      "image/png": "[encoded data removed]",
      "text/plain": [
       "<matplotlib.figure.Figure at 0x7f8cc80cf3d0>"
      ]
     },
     "metadata": {},
     "output_type": "display_data"
    }
   ],
   "source": [
    "play(frames=200)"
   ]
  },
  {
   "cell_type": "code",
   "execution_count": null,
   "metadata": {
    "collapsed": true
   },
   "outputs": [],
   "source": []
  }
 ],
 "metadata": {
  "kernelspec": {
   "display_name": "Python 2",
   "language": "python",
   "name": "python2"
  },
  "language_info": {
   "codemirror_mode": {
    "name": "ipython",
    "version": 2
   },
   "file_extension": ".py",
   "mimetype": "text/x-python",
   "name": "python",
   "nbconvert_exporter": "python",
   "pygments_lexer": "ipython2",
   "version": "2.7.6"
  }
 },
 "nbformat": 4,
 "nbformat_minor": 2
}
